{
 "cells": [
  {
   "cell_type": "code",
   "execution_count": 1,
   "metadata": {},
   "outputs": [],
   "source": [
    "import numpy as np\n",
    "import pandas as pd\n",
    "import lightgbm as lgb\n",
    "import networkx as nx\n",
    "import matplotlib.pyplot as plt\n",
    "import seaborn as sns\n",
    "\n",
    "from copy import deepcopy\n",
    "from time import time\n",
    "from joblib import Parallel, delayed\n",
    "from scipy.stats.mstats import gmean\n",
    "from bayes_opt import BayesianOptimization\n",
    "from triqler.qvality import getQvaluesFromScores\n",
    "\n",
    "from sklearn.linear_model import ElasticNet\n",
    "from sklearn.preprocessing import OneHotEncoder\n",
    "from sklearn.model_selection import cross_val_score\n",
    "from sklearn.metrics import roc_auc_score\n",
    "from sklearn.model_selection import StratifiedKFold, train_test_split\n",
    "\n",
    "import torch\n",
    "import torch.nn as nn\n",
    "from torch.utils.data import TensorDataset, DataLoader\n",
    "import warnings\n",
    "warnings.filterwarnings('ignore')\n",
    "plt.rcParams['font.sans-serif'] = 'Arial'"
   ]
  },
  {
   "cell_type": "code",
   "execution_count": 2,
   "metadata": {},
   "outputs": [
    {
     "data": {
      "text/plain": [
       "(208618, 112)"
      ]
     },
     "execution_count": 2,
     "metadata": {},
     "output_type": "execute_result"
    }
   ],
   "source": [
    "evidence = pd.read_csv('../data/SampleSet/evidence.txt', sep='\\t', low_memory=False)\n",
    "evidence.shape"
   ]
  },
  {
   "cell_type": "markdown",
   "metadata": {},
   "source": [
    "# SampleRT"
   ]
  },
  {
   "cell_type": "code",
   "execution_count": 3,
   "metadata": {},
   "outputs": [],
   "source": [
    "from DeepSCP import MQ_SampleRT"
   ]
  },
  {
   "cell_type": "code",
   "execution_count": 4,
   "metadata": {},
   "outputs": [
    {
     "name": "stdout",
     "output_type": "stream",
     "text": [
      "Wall time: 10.5 s\n"
     ]
    }
   ],
   "source": [
    "%%time\n",
    "# sampleRT = MQ_SampleRT(r=3, filter_PEP=False)\n",
    "sampleRT = MQ_SampleRT()\n",
    "dfRT = sampleRT.fit_tranform(evidence)\n",
    "SampleRT_scores = sampleRT.cmp_scores"
   ]
  },
  {
   "cell_type": "code",
   "execution_count": 5,
   "metadata": {},
   "outputs": [],
   "source": [
    "SampleRT_scores.to_csv('../data/SampleRT_scores.csv', index=False)"
   ]
  },
  {
   "cell_type": "code",
   "execution_count": 6,
   "metadata": {},
   "outputs": [
    {
     "data": {
      "image/png": "[encoded data removed]",
      "text/plain": [
       "<Figure size 360x288 with 1 Axes>"
      ]
     },
     "metadata": {
      "needs_background": "light"
     },
     "output_type": "display_data"
    }
   ],
   "source": [
    "plt.figure(figsize=(5, 4))\n",
    "# SampleRT_scores = pd.read_csv('../input/SampleRT_scores.csv')\n",
    "SampleRT_scores = SampleRT_scores[SampleRT_scores['score'] > 0]\n",
    "\n",
    "sns.boxplot(y='score', x='type', data = SampleRT_scores)\n",
    "plt.xticks(fontsize=13, rotation=20)\n",
    "plt.yticks(fontsize=13)\n",
    "\n",
    "plt.xlabel('Type', fontsize=15)\n",
    "plt.ylabel('$R^2$', fontsize=15)\n",
    "plt.tight_layout()\n",
    "plt.savefig('../figure/SampleRT.pdf')"
   ]
  },
  {
   "cell_type": "code",
   "execution_count": 7,
   "metadata": {},
   "outputs": [
    {
     "data": {
      "text/plain": [
       "type\n",
       "RT(rev|rev)    0.991829\n",
       "RT(rev|tag)    0.990413\n",
       "RT(tag|rev)    0.996486\n",
       "RT(tag|tag)    0.996702\n",
       "Name: score, dtype: float64"
      ]
     },
     "execution_count": 7,
     "metadata": {},
     "output_type": "execute_result"
    }
   ],
   "source": [
    "SampleRT_scores.groupby('type')['score'].median()"
   ]
  },
  {
   "cell_type": "markdown",
   "metadata": {},
   "source": [
    "# DeepSpec"
   ]
  },
  {
   "cell_type": "code",
   "execution_count": 8,
   "metadata": {},
   "outputs": [],
   "source": [
    "from DeepSCP import DeepSpec"
   ]
  },
  {
   "cell_type": "code",
   "execution_count": 9,
   "metadata": {},
   "outputs": [
    {
     "data": {
      "text/plain": [
       "(47905, 111)"
      ]
     },
     "execution_count": 9,
     "metadata": {},
     "output_type": "execute_result"
    }
   ],
   "source": [
    "lbmsms = pd.read_csv('../data/LibrarySet/msms.txt', sep='\\t', low_memory=False)\n",
    "lbmsms.shape"
   ]
  },
  {
   "cell_type": "code",
   "execution_count": 10,
   "metadata": {},
   "outputs": [
    {
     "data": {
      "text/plain": [
       "(213502, 111)"
      ]
     },
     "execution_count": 10,
     "metadata": {},
     "output_type": "execute_result"
    }
   ],
   "source": [
    "msms = pd.read_csv('../data/SampleSet/msms.txt', sep='\\t', low_memory=False)\n",
    "msms.shape"
   ]
  },
  {
   "cell_type": "code",
   "execution_count": 11,
   "metadata": {},
   "outputs": [
    {
     "name": "stdout",
     "output_type": "stream",
     "text": [
      "+++++++++++++++++++++++++++Loading Trainset+++++++++++++++++++++\n",
      "++++++++++++++++OneHotEncoder CMS(Chage + Modified sequence)++++++++++++++\n",
      "using time 0.12492036819458008\n",
      "x shape:  (9476, 48, 30)\n",
      "++++++++++++++++++++++++++Construct Ion Intensities Array++++++++++++++++++++\n",
      "using time 7.3110527992248535\n",
      "y shape:  (9476, 46, 12)\n",
      "+++++++++++++++++++DeepSpec Training+++++++++++++++++++++\n",
      "[50|1000] val_loss: 0.0022639106027781963 | val_cosine: 0.7573228958786643\n",
      "[100|1000] val_loss: 0.0015029684291221201 | val_cosine: 0.8447337960555796\n",
      "[150|1000] val_loss: 0.001244068902451545 | val_cosine: 0.8724393981397472\n",
      "[200|1000] val_loss: 0.0011377164046280086 | val_cosine: 0.883330856087211\n",
      "[250|1000] val_loss: 0.0010346671915613115 | val_cosine: 0.8948258307117933\n",
      "[300|1000] val_loss: 0.00095723444246687 | val_cosine: 0.9038945474309885\n",
      "[350|1000] val_loss: 0.0008885230636224151 | val_cosine: 0.9130832014641157\n",
      "[400|1000] val_loss: 0.0008270416874438524 | val_cosine: 0.9226605075853107\n",
      "[450|1000] val_loss: 0.0007334821566473693 | val_cosine: 0.9321717223278289\n",
      "[500|1000] val_loss: 0.0006930472445674241 | val_cosine: 0.9369999650634412\n",
      "[550|1000] val_loss: 0.000651234295219183 | val_cosine: 0.9415009940717982\n",
      "[600|1000] val_loss: 0.000629867339739576 | val_cosine: 0.9440453726144347\n",
      "[650|1000] val_loss: 0.0005990479839965701 | val_cosine: 0.9466173800743543\n",
      "[700|1000] val_loss: 0.0005764331726823002 | val_cosine: 0.9491828880398087\n",
      "[750|1000] val_loss: 0.0005619371368084103 | val_cosine: 0.950643191535672\n",
      "[800|1000] val_loss: 0.0005630847590509802 | val_cosine: 0.9507697387432364\n",
      "[850|1000] val_loss: 0.0005708249227609485 | val_cosine: 0.9498868406653049\n",
      "[900|1000] val_loss: 0.0005390940641518682 | val_cosine: 0.9530739422776051\n",
      "[950|1000] val_loss: 0.0005398258217610419 | val_cosine: 0.9533869240126298\n",
      "[1000|1000] val_loss: 0.0005443138652481139 | val_cosine: 0.953054187456536\n",
      "best epoch [999|1000] val_ loss: 0.0005284729413688183 | val_cosine: 0.954356378123419\n",
      "Wall time: 26min 13s\n"
     ]
    }
   ],
   "source": [
    "%%time\n",
    "# deepspec = DeepSpec(model=None, seed=0, test_size=0.2, lr=1e-3, l2=0.0,\n",
    "#                     batch_size=1024, epochs=1000, nepoch=50, patience=50,\n",
    "#                     device=torch.device(\"cuda:0\" if torch.cuda.is_available() else \"cpu\"))\n",
    "deepspec = DeepSpec()\n",
    "deepspec.fit(lbmsms)"
   ]
  },
  {
   "cell_type": "code",
   "execution_count": 12,
   "metadata": {},
   "outputs": [
    {
     "name": "stdout",
     "output_type": "stream",
     "text": [
      "best epoch 999 | val_ loss: 0.0005284729413688183 | val_cosine: 0.954356378123419\n"
     ]
    }
   ],
   "source": [
    "# best epoch result \n",
    "print('best epoch {} | val_ loss: {} | val_cosine: {}'.format(\n",
    "    deepspec.bestepoch, deepspec.val_loss_best, deepspec.val_cosine_best))"
   ]
  },
  {
   "cell_type": "code",
   "execution_count": 13,
   "metadata": {},
   "outputs": [
    {
     "data": {
      "image/png": "[encoded data removed]",
      "text/plain": [
       "<Figure size 432x288 with 2 Axes>"
      ]
     },
     "metadata": {
      "needs_background": "light"
     },
     "output_type": "display_data"
    }
   ],
   "source": [
    "deepspec.ValPlot()\n",
    "plt.savefig('../figure/DeepSpec.pdf')"
   ]
  },
  {
   "cell_type": "code",
   "execution_count": 14,
   "metadata": {},
   "outputs": [
    {
     "data": {
      "text/plain": [
       "dict_keys(['val_losses', 'val_cosines'])"
      ]
     },
     "execution_count": 14,
     "metadata": {},
     "output_type": "execute_result"
    }
   ],
   "source": [
    "# deepspec trian information\n",
    "deepspec.traininfor.keys()\n",
    "# deepspec.traininfor['val_losses']\n",
    "# deepspec.traininfor['val_cosines']\n",
    "# [ i.mean() for i in deepspec.traininfor['val_cosines']]"
   ]
  },
  {
   "cell_type": "code",
   "execution_count": 15,
   "metadata": {},
   "outputs": [
    {
     "name": "stdout",
     "output_type": "stream",
     "text": [
      "after filter none Intensities data shape: (202436, 4)\n",
      "+++++++++++++++++++Loading Testset+++++++++++++++++++++\n",
      "++++++++++++++++OneHotEncoder CMS(Chage + Modified sequence)++++++++++++++\n",
      "using time 2.8118927478790283\n",
      "x shape:  (202436, 48, 30)\n",
      "++++++++++++++++++++++++++Construct Ion Intensities Array++++++++++++++++++++\n",
      "using time 49.9742226600647\n",
      "y shape:  (202436, 46, 12)\n",
      "+++++++++++++++++++DeepSpec Testing+++++++++++++++++++++\n",
      "Wall time: 2min 13s\n"
     ]
    }
   ],
   "source": [
    "%%time\n",
    "# deepspec = DeepSpec()  \n",
    "# If the current folder has DeepSpec saved, it is loaded by default\n",
    "dfSP = deepspec.predict(dfRT, msms)"
   ]
  },
  {
   "cell_type": "code",
   "execution_count": 16,
   "metadata": {},
   "outputs": [
    {
     "data": {
      "text/plain": [
       "dict_keys(['Data', 'x_test', 'y_test', 'y_testpred', 'Cosine'])"
      ]
     },
     "execution_count": 16,
     "metadata": {},
     "output_type": "execute_result"
    }
   ],
   "source": [
    "# deepspec sampleset predicted information\n",
    "deepspec.db_test.keys()"
   ]
  },
  {
   "cell_type": "markdown",
   "metadata": {},
   "source": [
    "# LgbBayes"
   ]
  },
  {
   "cell_type": "code",
   "execution_count": 17,
   "metadata": {},
   "outputs": [],
   "source": [
    "from DeepSCP import LgbBayes"
   ]
  },
  {
   "cell_type": "code",
   "execution_count": 18,
   "metadata": {},
   "outputs": [
    {
     "data": {
      "text/plain": [
       "(205789, 125)"
      ]
     },
     "execution_count": 18,
     "metadata": {},
     "output_type": "execute_result"
    }
   ],
   "source": [
    "dfdb = deepcopy(dfSP)\n",
    "dfdb.shape"
   ]
  },
  {
   "cell_type": "code",
   "execution_count": 19,
   "metadata": {},
   "outputs": [
    {
     "data": {
      "text/plain": [
       "1    157906\n",
       "0     47883\n",
       "Name: label, dtype: int64"
      ]
     },
     "execution_count": 19,
     "metadata": {},
     "output_type": "execute_result"
    }
   ],
   "source": [
    "dfdb.label.value_counts()"
   ]
  },
  {
   "cell_type": "code",
   "execution_count": 20,
   "metadata": {},
   "outputs": [
    {
     "name": "stdout",
     "output_type": "stream",
     "text": [
      "++++++++++++++++CV 1+++++++++++++++\n",
      "train auc: 0.9238766020769839\n",
      "test auc: 0.9379211200829646\n",
      "++++++++++++++++CV 2+++++++++++++++\n",
      "train auc: 0.9289381179380496\n",
      "test auc: 0.9427248004833573\n",
      "++++++++++++++++CV 3+++++++++++++++\n",
      "train auc: 0.9272802106480809\n",
      "test auc: 0.9412275184131702\n",
      "Wall time: 10min 1s\n"
     ]
    }
   ],
   "source": [
    "%%time\n",
    "feature_columns = ['Length', 'Acetyl (Protein N-term)', 'Oxidation (M)', 'Missed cleavages',\n",
    "                   'Charge', 'm/z', 'Mass', 'Mass error [ppm]', 'Retention length', 'PEP',\n",
    "                   'MS/MS scan number', 'Score', 'Delta score','PIF', 'Intensity',\n",
    "                   'Retention time', 'RT(*|rev)', 'RT(*|tag)', 'DeltaRT', 'PEPRT', 'ScoreRT',\n",
    "                   'Cosine','PEPCosine', 'ScoreCosine']\n",
    "target_column='label'\n",
    "file_column = 'Experiment'\n",
    "protein_column = 'Leading razor protein'\n",
    "lgs = LgbBayes()\n",
    "data_set = lgs.fit_tranform(data=dfdb,\n",
    "                                feature_columns=feature_columns,\n",
    "                                target_column=target_column,\n",
    "                                file_column=file_column,\n",
    "                                protein_column=protein_column)"
   ]
  },
  {
   "cell_type": "code",
   "execution_count": 21,
   "metadata": {},
   "outputs": [
    {
     "data": {
      "image/png": "[encoded data removed]",
      "text/plain": [
       "<Figure size 432x432 with 1 Axes>"
      ]
     },
     "metadata": {
      "needs_background": "light"
     },
     "output_type": "display_data"
    }
   ],
   "source": [
    "# feature importance\n",
    "feature_imp = lgs.feature_imp\n",
    "feature_imp.to_csv('../data/feature_imp.csv', index=None)\n",
    "lgs.Feature_imp_plot()\n",
    "plt.savefig('../figure/Feature_imp.pdf')"
   ]
  },
  {
   "cell_type": "code",
   "execution_count": 22,
   "metadata": {},
   "outputs": [
    {
     "data": {
      "image/png": "[encoded data removed]",
      "text/plain": [
       "<Figure size 360x288 with 1 Axes>"
      ]
     },
     "metadata": {
      "needs_background": "light"
     },
     "output_type": "display_data"
    }
   ],
   "source": [
    "lgs.CVROC()\n",
    "plt.savefig('../figure/DeepSCP_ROC.pdf')"
   ]
  },
  {
   "cell_type": "code",
   "execution_count": 23,
   "metadata": {},
   "outputs": [
    {
     "data": {
      "image/png": "[encoded data removed]",
      "text/plain": [
       "<Figure size 360x288 with 1 Axes>"
      ]
     },
     "metadata": {
      "needs_background": "light"
     },
     "output_type": "display_data"
    }
   ],
   "source": [
    "lgs.PSM_accept()\n",
    "plt.savefig('../figure/PSM_accept.pdf')"
   ]
  },
  {
   "cell_type": "markdown",
   "metadata": {},
   "source": [
    "# Peptide & Protein assembly"
   ]
  },
  {
   "cell_type": "code",
   "execution_count": 25,
   "metadata": {},
   "outputs": [
    {
     "data": {
      "text/plain": [
       "(116052, 130)"
      ]
     },
     "execution_count": 25,
     "metadata": {},
     "output_type": "execute_result"
    }
   ],
   "source": [
    "# PSM\n",
    "data = data_set[(data_set.psm_qvalue < 0.01) & (data_set.protein_qvalue <0.01) &\n",
    "              (data_set.label == 1)]\n",
    "data.shape"
   ]
  },
  {
   "cell_type": "code",
   "execution_count": 26,
   "metadata": {},
   "outputs": [
    {
     "data": {
      "text/plain": [
       "(18467,)"
      ]
     },
     "execution_count": 26,
     "metadata": {},
     "output_type": "execute_result"
    }
   ],
   "source": [
    "# Peptide\n",
    "data.Sequence.unique().shape"
   ]
  },
  {
   "cell_type": "code",
   "execution_count": 27,
   "metadata": {},
   "outputs": [
    {
     "data": {
      "text/plain": [
       "(4605,)"
      ]
     },
     "execution_count": 27,
     "metadata": {},
     "output_type": "execute_result"
    }
   ],
   "source": [
    "# Protein\n",
    "data['Leading razor protein'].unique().shape"
   ]
  },
  {
   "cell_type": "code",
   "execution_count": 28,
   "metadata": {},
   "outputs": [],
   "source": [
    "from DeepSCP import PSM2ProPep"
   ]
  },
  {
   "cell_type": "code",
   "execution_count": 29,
   "metadata": {},
   "outputs": [
    {
     "data": {
      "text/html": [
       "<div>\n",
       "<style scoped>\n",
       "    .dataframe tbody tr th:only-of-type {\n",
       "        vertical-align: middle;\n",
       "    }\n",
       "\n",
       "    .dataframe tbody tr th {\n",
       "        vertical-align: top;\n",
       "    }\n",
       "\n",
       "    .dataframe thead th {\n",
       "        text-align: right;\n",
       "    }\n",
       "</style>\n",
       "<table border=\"1\" class=\"dataframe\">\n",
       "  <thead>\n",
       "    <tr style=\"text-align: right;\">\n",
       "      <th></th>\n",
       "      <th>1</th>\n",
       "      <th>2</th>\n",
       "      <th>3</th>\n",
       "      <th>4</th>\n",
       "      <th>5</th>\n",
       "      <th>6</th>\n",
       "      <th>7</th>\n",
       "      <th>8</th>\n",
       "      <th>9</th>\n",
       "      <th>10</th>\n",
       "    </tr>\n",
       "  </thead>\n",
       "  <tbody>\n",
       "    <tr>\n",
       "      <th>0</th>\n",
       "      <td>Sequence</td>\n",
       "      <td>Length</td>\n",
       "      <td>Modifications</td>\n",
       "      <td>Modified sequence</td>\n",
       "      <td>Oxidation (M) Probabilities</td>\n",
       "      <td>Oxidation (M) Score Diffs</td>\n",
       "      <td>Acetyl (Protein N-term)</td>\n",
       "      <td>Oxidation (M)</td>\n",
       "      <td>Missed cleavages</td>\n",
       "      <td>Proteins</td>\n",
       "    </tr>\n",
       "    <tr>\n",
       "      <th>1</th>\n",
       "      <td>Leading proteins</td>\n",
       "      <td>Leading razor protein</td>\n",
       "      <td>Gene names</td>\n",
       "      <td>Protein names</td>\n",
       "      <td>Type</td>\n",
       "      <td>Raw file</td>\n",
       "      <td>Experiment</td>\n",
       "      <td>MS/MS m/z</td>\n",
       "      <td>Charge</td>\n",
       "      <td>m/z</td>\n",
       "    </tr>\n",
       "    <tr>\n",
       "      <th>2</th>\n",
       "      <td>Mass</td>\n",
       "      <td>Resolution</td>\n",
       "      <td>Uncalibrated - Calibrated m/z [ppm]</td>\n",
       "      <td>Uncalibrated - Calibrated m/z [Da]</td>\n",
       "      <td>Mass error [ppm]</td>\n",
       "      <td>Mass error [Da]</td>\n",
       "      <td>Uncalibrated mass error [ppm]</td>\n",
       "      <td>Uncalibrated mass error [Da]</td>\n",
       "      <td>Max intensity m/z 0</td>\n",
       "      <td>Retention time</td>\n",
       "    </tr>\n",
       "    <tr>\n",
       "      <th>3</th>\n",
       "      <td>Retention length</td>\n",
       "      <td>Calibrated retention time</td>\n",
       "      <td>Calibrated retention time start</td>\n",
       "      <td>Calibrated retention time finish</td>\n",
       "      <td>Retention time calibration</td>\n",
       "      <td>Match time difference</td>\n",
       "      <td>Match m/z difference</td>\n",
       "      <td>Match q-value</td>\n",
       "      <td>Match score</td>\n",
       "      <td>Number of data points</td>\n",
       "    </tr>\n",
       "    <tr>\n",
       "      <th>4</th>\n",
       "      <td>Number of scans</td>\n",
       "      <td>Number of isotopic peaks</td>\n",
       "      <td>PIF</td>\n",
       "      <td>Fraction of total spectrum</td>\n",
       "      <td>Base peak fraction</td>\n",
       "      <td>PEP</td>\n",
       "      <td>MS/MS count</td>\n",
       "      <td>MS/MS scan number</td>\n",
       "      <td>Score</td>\n",
       "      <td>Delta score</td>\n",
       "    </tr>\n",
       "    <tr>\n",
       "      <th>5</th>\n",
       "      <td>Combinatorics</td>\n",
       "      <td>Intensity</td>\n",
       "      <td>Reporter intensity corrected 1</td>\n",
       "      <td>Reporter intensity corrected 2</td>\n",
       "      <td>Reporter intensity corrected 3</td>\n",
       "      <td>Reporter intensity corrected 4</td>\n",
       "      <td>Reporter intensity corrected 5</td>\n",
       "      <td>Reporter intensity corrected 6</td>\n",
       "      <td>Reporter intensity corrected 7</td>\n",
       "      <td>Reporter intensity corrected 8</td>\n",
       "    </tr>\n",
       "    <tr>\n",
       "      <th>6</th>\n",
       "      <td>Reporter intensity corrected 9</td>\n",
       "      <td>Reporter intensity corrected 10</td>\n",
       "      <td>Reporter intensity corrected 11</td>\n",
       "      <td>Reporter intensity corrected 12</td>\n",
       "      <td>Reporter intensity corrected 13</td>\n",
       "      <td>Reporter intensity corrected 14</td>\n",
       "      <td>Reporter intensity corrected 15</td>\n",
       "      <td>Reporter intensity corrected 16</td>\n",
       "      <td>Reporter intensity 1</td>\n",
       "      <td>Reporter intensity 2</td>\n",
       "    </tr>\n",
       "    <tr>\n",
       "      <th>7</th>\n",
       "      <td>Reporter intensity 3</td>\n",
       "      <td>Reporter intensity 4</td>\n",
       "      <td>Reporter intensity 5</td>\n",
       "      <td>Reporter intensity 6</td>\n",
       "      <td>Reporter intensity 7</td>\n",
       "      <td>Reporter intensity 8</td>\n",
       "      <td>Reporter intensity 9</td>\n",
       "      <td>Reporter intensity 10</td>\n",
       "      <td>Reporter intensity 11</td>\n",
       "      <td>Reporter intensity 12</td>\n",
       "    </tr>\n",
       "    <tr>\n",
       "      <th>8</th>\n",
       "      <td>Reporter intensity 13</td>\n",
       "      <td>Reporter intensity 14</td>\n",
       "      <td>Reporter intensity 15</td>\n",
       "      <td>Reporter intensity 16</td>\n",
       "      <td>Reporter intensity count 1</td>\n",
       "      <td>Reporter intensity count 2</td>\n",
       "      <td>Reporter intensity count 3</td>\n",
       "      <td>Reporter intensity count 4</td>\n",
       "      <td>Reporter intensity count 5</td>\n",
       "      <td>Reporter intensity count 6</td>\n",
       "    </tr>\n",
       "    <tr>\n",
       "      <th>9</th>\n",
       "      <td>Reporter intensity count 7</td>\n",
       "      <td>Reporter intensity count 8</td>\n",
       "      <td>Reporter intensity count 9</td>\n",
       "      <td>Reporter intensity count 10</td>\n",
       "      <td>Reporter intensity count 11</td>\n",
       "      <td>Reporter intensity count 12</td>\n",
       "      <td>Reporter intensity count 13</td>\n",
       "      <td>Reporter intensity count 14</td>\n",
       "      <td>Reporter intensity count 15</td>\n",
       "      <td>Reporter intensity count 16</td>\n",
       "    </tr>\n",
       "    <tr>\n",
       "      <th>10</th>\n",
       "      <td>Reporter PIF</td>\n",
       "      <td>Reporter fraction</td>\n",
       "      <td>Reverse</td>\n",
       "      <td>Potential contaminant</td>\n",
       "      <td>id</td>\n",
       "      <td>Protein group IDs</td>\n",
       "      <td>Peptide ID</td>\n",
       "      <td>Mod. peptide ID</td>\n",
       "      <td>MS/MS IDs</td>\n",
       "      <td>Best MS/MS</td>\n",
       "    </tr>\n",
       "    <tr>\n",
       "      <th>11</th>\n",
       "      <td>AIF MS/MS IDs</td>\n",
       "      <td>Oxidation (M) site IDs</td>\n",
       "      <td>label</td>\n",
       "      <td>File_Pep</td>\n",
       "      <td>RT(*|rev)</td>\n",
       "      <td>RT(*|tag)</td>\n",
       "      <td>DeltaRT</td>\n",
       "      <td>PEPRT</td>\n",
       "      <td>ScoreRT</td>\n",
       "      <td>CMS</td>\n",
       "    </tr>\n",
       "    <tr>\n",
       "      <th>12</th>\n",
       "      <td>Matches</td>\n",
       "      <td>Intensities</td>\n",
       "      <td>Cosine</td>\n",
       "      <td>PEPCosine</td>\n",
       "      <td>ScoreCosine</td>\n",
       "      <td>cv_index</td>\n",
       "      <td>Lgb_score</td>\n",
       "      <td>Lgb_pep</td>\n",
       "      <td>psm_qvalue</td>\n",
       "      <td>protein_qvalue</td>\n",
       "    </tr>\n",
       "  </tbody>\n",
       "</table>\n",
       "</div>"
      ],
      "text/plain": [
       "                                1                                2   \\\n",
       "0                         Sequence                           Length   \n",
       "1                 Leading proteins            Leading razor protein   \n",
       "2                             Mass                       Resolution   \n",
       "3                 Retention length        Calibrated retention time   \n",
       "4                  Number of scans         Number of isotopic peaks   \n",
       "5                    Combinatorics                        Intensity   \n",
       "6   Reporter intensity corrected 9  Reporter intensity corrected 10   \n",
       "7             Reporter intensity 3             Reporter intensity 4   \n",
       "8            Reporter intensity 13            Reporter intensity 14   \n",
       "9       Reporter intensity count 7       Reporter intensity count 8   \n",
       "10                    Reporter PIF                Reporter fraction   \n",
       "11                   AIF MS/MS IDs           Oxidation (M) site IDs   \n",
       "12                         Matches                      Intensities   \n",
       "\n",
       "                                     3                                   4   \\\n",
       "0                         Modifications                   Modified sequence   \n",
       "1                            Gene names                       Protein names   \n",
       "2   Uncalibrated - Calibrated m/z [ppm]  Uncalibrated - Calibrated m/z [Da]   \n",
       "3       Calibrated retention time start    Calibrated retention time finish   \n",
       "4                                   PIF          Fraction of total spectrum   \n",
       "5        Reporter intensity corrected 1      Reporter intensity corrected 2   \n",
       "6       Reporter intensity corrected 11     Reporter intensity corrected 12   \n",
       "7                  Reporter intensity 5                Reporter intensity 6   \n",
       "8                 Reporter intensity 15               Reporter intensity 16   \n",
       "9            Reporter intensity count 9         Reporter intensity count 10   \n",
       "10                              Reverse               Potential contaminant   \n",
       "11                                label                            File_Pep   \n",
       "12                               Cosine                           PEPCosine   \n",
       "\n",
       "                                 5                                6   \\\n",
       "0       Oxidation (M) Probabilities        Oxidation (M) Score Diffs   \n",
       "1                              Type                         Raw file   \n",
       "2                  Mass error [ppm]                  Mass error [Da]   \n",
       "3        Retention time calibration            Match time difference   \n",
       "4                Base peak fraction                              PEP   \n",
       "5    Reporter intensity corrected 3   Reporter intensity corrected 4   \n",
       "6   Reporter intensity corrected 13  Reporter intensity corrected 14   \n",
       "7              Reporter intensity 7             Reporter intensity 8   \n",
       "8        Reporter intensity count 1       Reporter intensity count 2   \n",
       "9       Reporter intensity count 11      Reporter intensity count 12   \n",
       "10                               id                Protein group IDs   \n",
       "11                        RT(*|rev)                        RT(*|tag)   \n",
       "12                      ScoreCosine                         cv_index   \n",
       "\n",
       "                                 7                                8   \\\n",
       "0           Acetyl (Protein N-term)                    Oxidation (M)   \n",
       "1                        Experiment                        MS/MS m/z   \n",
       "2     Uncalibrated mass error [ppm]     Uncalibrated mass error [Da]   \n",
       "3              Match m/z difference                    Match q-value   \n",
       "4                       MS/MS count                MS/MS scan number   \n",
       "5    Reporter intensity corrected 5   Reporter intensity corrected 6   \n",
       "6   Reporter intensity corrected 15  Reporter intensity corrected 16   \n",
       "7              Reporter intensity 9            Reporter intensity 10   \n",
       "8        Reporter intensity count 3       Reporter intensity count 4   \n",
       "9       Reporter intensity count 13      Reporter intensity count 14   \n",
       "10                       Peptide ID                  Mod. peptide ID   \n",
       "11                          DeltaRT                            PEPRT   \n",
       "12                        Lgb_score                          Lgb_pep   \n",
       "\n",
       "                                9                               10  \n",
       "0                 Missed cleavages                        Proteins  \n",
       "1                           Charge                             m/z  \n",
       "2              Max intensity m/z 0                  Retention time  \n",
       "3                      Match score           Number of data points  \n",
       "4                            Score                     Delta score  \n",
       "5   Reporter intensity corrected 7  Reporter intensity corrected 8  \n",
       "6             Reporter intensity 1            Reporter intensity 2  \n",
       "7            Reporter intensity 11           Reporter intensity 12  \n",
       "8       Reporter intensity count 5      Reporter intensity count 6  \n",
       "9      Reporter intensity count 15     Reporter intensity count 16  \n",
       "10                       MS/MS IDs                      Best MS/MS  \n",
       "11                         ScoreRT                             CMS  \n",
       "12                      psm_qvalue                  protein_qvalue  "
      ]
     },
     "execution_count": 29,
     "metadata": {},
     "output_type": "execute_result"
    }
   ],
   "source": [
    "from DeepSCP import showcols\n",
    "showcols(data)"
   ]
  },
  {
   "cell_type": "code",
   "execution_count": 30,
   "metadata": {},
   "outputs": [],
   "source": [
    "file_column = 'Experiment'\n",
    "protein_column = 'Leading razor protein'\n",
    "peptide_column = 'Sequence'\n",
    "intensity_columns = [i for i in data.columns if 'Reporter intensity corrected' in i]\n",
    "\n",
    "df_pro, df_pep = PSM2ProPep(data, file_column=file_column,\n",
    "                           protein_column=protein_column,\n",
    "                           peptide_column=peptide_column,\n",
    "                           intensity_columns=intensity_columns)"
   ]
  },
  {
   "cell_type": "code",
   "execution_count": 31,
   "metadata": {},
   "outputs": [
    {
     "data": {
      "text/plain": [
       "['Reporter intensity corrected 1',\n",
       " 'Reporter intensity corrected 2',\n",
       " 'Reporter intensity corrected 3',\n",
       " 'Reporter intensity corrected 4',\n",
       " 'Reporter intensity corrected 5',\n",
       " 'Reporter intensity corrected 6',\n",
       " 'Reporter intensity corrected 7',\n",
       " 'Reporter intensity corrected 8',\n",
       " 'Reporter intensity corrected 9',\n",
       " 'Reporter intensity corrected 10',\n",
       " 'Reporter intensity corrected 11',\n",
       " 'Reporter intensity corrected 12',\n",
       " 'Reporter intensity corrected 13',\n",
       " 'Reporter intensity corrected 14',\n",
       " 'Reporter intensity corrected 15',\n",
       " 'Reporter intensity corrected 16']"
      ]
     },
     "execution_count": 31,
     "metadata": {},
     "output_type": "execute_result"
    }
   ],
   "source": [
    "intensity_columns"
   ]
  },
  {
   "cell_type": "code",
   "execution_count": 32,
   "metadata": {},
   "outputs": [
    {
     "data": {
      "text/plain": [
       "(18467, 194)"
      ]
     },
     "execution_count": 32,
     "metadata": {},
     "output_type": "execute_result"
    }
   ],
   "source": [
    "df_pep.shape"
   ]
  },
  {
   "cell_type": "code",
   "execution_count": 33,
   "metadata": {},
   "outputs": [
    {
     "data": {
      "text/plain": [
       "(4605, 192)"
      ]
     },
     "execution_count": 33,
     "metadata": {},
     "output_type": "execute_result"
    }
   ],
   "source": [
    "df_pro.shape"
   ]
  },
  {
   "cell_type": "code",
   "execution_count": 34,
   "metadata": {},
   "outputs": [
    {
     "data": {
      "text/html": [
       "<div>\n",
       "<style scoped>\n",
       "    .dataframe tbody tr th:only-of-type {\n",
       "        vertical-align: middle;\n",
       "    }\n",
       "\n",
       "    .dataframe tbody tr th {\n",
       "        vertical-align: top;\n",
       "    }\n",
       "\n",
       "    .dataframe thead th {\n",
       "        text-align: right;\n",
       "    }\n",
       "</style>\n",
       "<table border=\"1\" class=\"dataframe\">\n",
       "  <thead>\n",
       "    <tr style=\"text-align: right;\">\n",
       "      <th></th>\n",
       "      <th>Leading razor protein</th>\n",
       "      <th>Sequence</th>\n",
       "      <th>B1_Reporter intensity corrected 1</th>\n",
       "      <th>B1_Reporter intensity corrected 2</th>\n",
       "      <th>B1_Reporter intensity corrected 3</th>\n",
       "      <th>B1_Reporter intensity corrected 4</th>\n",
       "      <th>B1_Reporter intensity corrected 5</th>\n",
       "      <th>B1_Reporter intensity corrected 6</th>\n",
       "      <th>B1_Reporter intensity corrected 7</th>\n",
       "      <th>B1_Reporter intensity corrected 8</th>\n",
       "      <th>...</th>\n",
       "      <th>C9_Reporter intensity corrected 7</th>\n",
       "      <th>C9_Reporter intensity corrected 8</th>\n",
       "      <th>C9_Reporter intensity corrected 9</th>\n",
       "      <th>C9_Reporter intensity corrected 10</th>\n",
       "      <th>C9_Reporter intensity corrected 11</th>\n",
       "      <th>C9_Reporter intensity corrected 12</th>\n",
       "      <th>C9_Reporter intensity corrected 13</th>\n",
       "      <th>C9_Reporter intensity corrected 14</th>\n",
       "      <th>C9_Reporter intensity corrected 15</th>\n",
       "      <th>C9_Reporter intensity corrected 16</th>\n",
       "    </tr>\n",
       "  </thead>\n",
       "  <tbody>\n",
       "    <tr>\n",
       "      <th>0</th>\n",
       "      <td>A0A023T778</td>\n",
       "      <td>FGHEFLEFEFRPDGK</td>\n",
       "      <td>124720.0</td>\n",
       "      <td>8273.3</td>\n",
       "      <td>8797.3</td>\n",
       "      <td>1001.3</td>\n",
       "      <td>225.19</td>\n",
       "      <td>0.0</td>\n",
       "      <td>0.0</td>\n",
       "      <td>835.87</td>\n",
       "      <td>...</td>\n",
       "      <td>0.0</td>\n",
       "      <td>1024.1</td>\n",
       "      <td>0.00</td>\n",
       "      <td>735.46</td>\n",
       "      <td>467.60</td>\n",
       "      <td>0.00</td>\n",
       "      <td>0.00</td>\n",
       "      <td>2215.1</td>\n",
       "      <td>446.74</td>\n",
       "      <td>846.85</td>\n",
       "    </tr>\n",
       "    <tr>\n",
       "      <th>1</th>\n",
       "      <td>A0A023T778</td>\n",
       "      <td>IGSLIDVNQSK</td>\n",
       "      <td>0.0</td>\n",
       "      <td>0.0</td>\n",
       "      <td>0.0</td>\n",
       "      <td>0.0</td>\n",
       "      <td>0.00</td>\n",
       "      <td>0.0</td>\n",
       "      <td>0.0</td>\n",
       "      <td>0.00</td>\n",
       "      <td>...</td>\n",
       "      <td>0.0</td>\n",
       "      <td>0.0</td>\n",
       "      <td>0.00</td>\n",
       "      <td>0.00</td>\n",
       "      <td>0.00</td>\n",
       "      <td>0.00</td>\n",
       "      <td>0.00</td>\n",
       "      <td>0.0</td>\n",
       "      <td>0.00</td>\n",
       "      <td>0.00</td>\n",
       "    </tr>\n",
       "    <tr>\n",
       "      <th>2</th>\n",
       "      <td>A0A023T778</td>\n",
       "      <td>IIDDSEITK</td>\n",
       "      <td>156570.0</td>\n",
       "      <td>6841.6</td>\n",
       "      <td>3337.4</td>\n",
       "      <td>0.0</td>\n",
       "      <td>0.00</td>\n",
       "      <td>0.0</td>\n",
       "      <td>0.0</td>\n",
       "      <td>1049.50</td>\n",
       "      <td>...</td>\n",
       "      <td>0.0</td>\n",
       "      <td>1437.1</td>\n",
       "      <td>667.52</td>\n",
       "      <td>1224.50</td>\n",
       "      <td>774.64</td>\n",
       "      <td>781.94</td>\n",
       "      <td>818.39</td>\n",
       "      <td>3082.2</td>\n",
       "      <td>1176.80</td>\n",
       "      <td>867.42</td>\n",
       "    </tr>\n",
       "    <tr>\n",
       "      <th>3</th>\n",
       "      <td>A0A023T778</td>\n",
       "      <td>VFYYLVQDLK</td>\n",
       "      <td>94462.0</td>\n",
       "      <td>5228.0</td>\n",
       "      <td>5632.5</td>\n",
       "      <td>0.0</td>\n",
       "      <td>0.00</td>\n",
       "      <td>0.0</td>\n",
       "      <td>0.0</td>\n",
       "      <td>862.67</td>\n",
       "      <td>...</td>\n",
       "      <td>0.0</td>\n",
       "      <td>0.0</td>\n",
       "      <td>0.00</td>\n",
       "      <td>0.00</td>\n",
       "      <td>0.00</td>\n",
       "      <td>0.00</td>\n",
       "      <td>0.00</td>\n",
       "      <td>0.0</td>\n",
       "      <td>0.00</td>\n",
       "      <td>0.00</td>\n",
       "    </tr>\n",
       "    <tr>\n",
       "      <th>4</th>\n",
       "      <td>A0A023T778</td>\n",
       "      <td>YANNSNYK</td>\n",
       "      <td>0.0</td>\n",
       "      <td>0.0</td>\n",
       "      <td>0.0</td>\n",
       "      <td>0.0</td>\n",
       "      <td>0.00</td>\n",
       "      <td>0.0</td>\n",
       "      <td>0.0</td>\n",
       "      <td>0.00</td>\n",
       "      <td>...</td>\n",
       "      <td>0.0</td>\n",
       "      <td>0.0</td>\n",
       "      <td>0.00</td>\n",
       "      <td>0.00</td>\n",
       "      <td>0.00</td>\n",
       "      <td>0.00</td>\n",
       "      <td>0.00</td>\n",
       "      <td>0.0</td>\n",
       "      <td>0.00</td>\n",
       "      <td>0.00</td>\n",
       "    </tr>\n",
       "  </tbody>\n",
       "</table>\n",
       "<p>5 rows × 194 columns</p>\n",
       "</div>"
      ],
      "text/plain": [
       "  Leading razor protein         Sequence  B1_Reporter intensity corrected 1  \\\n",
       "0            A0A023T778  FGHEFLEFEFRPDGK                           124720.0   \n",
       "1            A0A023T778      IGSLIDVNQSK                                0.0   \n",
       "2            A0A023T778        IIDDSEITK                           156570.0   \n",
       "3            A0A023T778       VFYYLVQDLK                            94462.0   \n",
       "4            A0A023T778         YANNSNYK                                0.0   \n",
       "\n",
       "   B1_Reporter intensity corrected 2  B1_Reporter intensity corrected 3  \\\n",
       "0                             8273.3                             8797.3   \n",
       "1                                0.0                                0.0   \n",
       "2                             6841.6                             3337.4   \n",
       "3                             5228.0                             5632.5   \n",
       "4                                0.0                                0.0   \n",
       "\n",
       "   B1_Reporter intensity corrected 4  B1_Reporter intensity corrected 5  \\\n",
       "0                             1001.3                             225.19   \n",
       "1                                0.0                               0.00   \n",
       "2                                0.0                               0.00   \n",
       "3                                0.0                               0.00   \n",
       "4                                0.0                               0.00   \n",
       "\n",
       "   B1_Reporter intensity corrected 6  B1_Reporter intensity corrected 7  \\\n",
       "0                                0.0                                0.0   \n",
       "1                                0.0                                0.0   \n",
       "2                                0.0                                0.0   \n",
       "3                                0.0                                0.0   \n",
       "4                                0.0                                0.0   \n",
       "\n",
       "   B1_Reporter intensity corrected 8  ...  C9_Reporter intensity corrected 7  \\\n",
       "0                             835.87  ...                                0.0   \n",
       "1                               0.00  ...                                0.0   \n",
       "2                            1049.50  ...                                0.0   \n",
       "3                             862.67  ...                                0.0   \n",
       "4                               0.00  ...                                0.0   \n",
       "\n",
       "   C9_Reporter intensity corrected 8  C9_Reporter intensity corrected 9  \\\n",
       "0                             1024.1                               0.00   \n",
       "1                                0.0                               0.00   \n",
       "2                             1437.1                             667.52   \n",
       "3                                0.0                               0.00   \n",
       "4                                0.0                               0.00   \n",
       "\n",
       "   C9_Reporter intensity corrected 10  C9_Reporter intensity corrected 11  \\\n",
       "0                              735.46                              467.60   \n",
       "1                                0.00                                0.00   \n",
       "2                             1224.50                              774.64   \n",
       "3                                0.00                                0.00   \n",
       "4                                0.00                                0.00   \n",
       "\n",
       "   C9_Reporter intensity corrected 12  C9_Reporter intensity corrected 13  \\\n",
       "0                                0.00                                0.00   \n",
       "1                                0.00                                0.00   \n",
       "2                              781.94                              818.39   \n",
       "3                                0.00                                0.00   \n",
       "4                                0.00                                0.00   \n",
       "\n",
       "   C9_Reporter intensity corrected 14  C9_Reporter intensity corrected 15  \\\n",
       "0                              2215.1                              446.74   \n",
       "1                                 0.0                                0.00   \n",
       "2                              3082.2                             1176.80   \n",
       "3                                 0.0                                0.00   \n",
       "4                                 0.0                                0.00   \n",
       "\n",
       "   C9_Reporter intensity corrected 16  \n",
       "0                              846.85  \n",
       "1                                0.00  \n",
       "2                              867.42  \n",
       "3                                0.00  \n",
       "4                                0.00  \n",
       "\n",
       "[5 rows x 194 columns]"
      ]
     },
     "execution_count": 34,
     "metadata": {},
     "output_type": "execute_result"
    }
   ],
   "source": [
    "df_pep.head()"
   ]
  },
  {
   "cell_type": "code",
   "execution_count": 35,
   "metadata": {},
   "outputs": [
    {
     "data": {
      "text/html": [
       "<div>\n",
       "<style scoped>\n",
       "    .dataframe tbody tr th:only-of-type {\n",
       "        vertical-align: middle;\n",
       "    }\n",
       "\n",
       "    .dataframe tbody tr th {\n",
       "        vertical-align: top;\n",
       "    }\n",
       "\n",
       "    .dataframe thead th {\n",
       "        text-align: right;\n",
       "    }\n",
       "</style>\n",
       "<table border=\"1\" class=\"dataframe\">\n",
       "  <thead>\n",
       "    <tr style=\"text-align: right;\">\n",
       "      <th></th>\n",
       "      <th>B1_Reporter intensity corrected 1</th>\n",
       "      <th>B1_Reporter intensity corrected 2</th>\n",
       "      <th>B1_Reporter intensity corrected 3</th>\n",
       "      <th>B1_Reporter intensity corrected 4</th>\n",
       "      <th>B1_Reporter intensity corrected 5</th>\n",
       "      <th>B1_Reporter intensity corrected 6</th>\n",
       "      <th>B1_Reporter intensity corrected 7</th>\n",
       "      <th>B1_Reporter intensity corrected 8</th>\n",
       "      <th>B1_Reporter intensity corrected 9</th>\n",
       "      <th>B1_Reporter intensity corrected 10</th>\n",
       "      <th>...</th>\n",
       "      <th>C9_Reporter intensity corrected 7</th>\n",
       "      <th>C9_Reporter intensity corrected 8</th>\n",
       "      <th>C9_Reporter intensity corrected 9</th>\n",
       "      <th>C9_Reporter intensity corrected 10</th>\n",
       "      <th>C9_Reporter intensity corrected 11</th>\n",
       "      <th>C9_Reporter intensity corrected 12</th>\n",
       "      <th>C9_Reporter intensity corrected 13</th>\n",
       "      <th>C9_Reporter intensity corrected 14</th>\n",
       "      <th>C9_Reporter intensity corrected 15</th>\n",
       "      <th>C9_Reporter intensity corrected 16</th>\n",
       "    </tr>\n",
       "    <tr>\n",
       "      <th>Leading razor protein</th>\n",
       "      <th></th>\n",
       "      <th></th>\n",
       "      <th></th>\n",
       "      <th></th>\n",
       "      <th></th>\n",
       "      <th></th>\n",
       "      <th></th>\n",
       "      <th></th>\n",
       "      <th></th>\n",
       "      <th></th>\n",
       "      <th></th>\n",
       "      <th></th>\n",
       "      <th></th>\n",
       "      <th></th>\n",
       "      <th></th>\n",
       "      <th></th>\n",
       "      <th></th>\n",
       "      <th></th>\n",
       "      <th></th>\n",
       "      <th></th>\n",
       "      <th></th>\n",
       "    </tr>\n",
       "  </thead>\n",
       "  <tbody>\n",
       "    <tr>\n",
       "      <th>A0A023T778</th>\n",
       "      <td>375752.0</td>\n",
       "      <td>20342.9</td>\n",
       "      <td>17767.2</td>\n",
       "      <td>1001.3</td>\n",
       "      <td>225.19</td>\n",
       "      <td>0.00</td>\n",
       "      <td>0.0</td>\n",
       "      <td>2748.04</td>\n",
       "      <td>814.89</td>\n",
       "      <td>3939.89</td>\n",
       "      <td>...</td>\n",
       "      <td>0.0</td>\n",
       "      <td>2461.2</td>\n",
       "      <td>667.52</td>\n",
       "      <td>1959.96</td>\n",
       "      <td>1242.24</td>\n",
       "      <td>781.94</td>\n",
       "      <td>818.39</td>\n",
       "      <td>5297.3</td>\n",
       "      <td>1623.54</td>\n",
       "      <td>1714.27</td>\n",
       "    </tr>\n",
       "    <tr>\n",
       "      <th>A0A087WNT1</th>\n",
       "      <td>420030.0</td>\n",
       "      <td>26775.0</td>\n",
       "      <td>47514.0</td>\n",
       "      <td>2142.2</td>\n",
       "      <td>1309.00</td>\n",
       "      <td>410.68</td>\n",
       "      <td>0.0</td>\n",
       "      <td>4375.00</td>\n",
       "      <td>970.43</td>\n",
       "      <td>4850.60</td>\n",
       "      <td>...</td>\n",
       "      <td>0.0</td>\n",
       "      <td>11802.0</td>\n",
       "      <td>3030.32</td>\n",
       "      <td>7448.40</td>\n",
       "      <td>7164.20</td>\n",
       "      <td>4095.99</td>\n",
       "      <td>3850.06</td>\n",
       "      <td>18575.2</td>\n",
       "      <td>3528.75</td>\n",
       "      <td>6927.34</td>\n",
       "    </tr>\n",
       "    <tr>\n",
       "      <th>A0A087WNV1</th>\n",
       "      <td>16133.0</td>\n",
       "      <td>1047.8</td>\n",
       "      <td>1121.6</td>\n",
       "      <td>0.0</td>\n",
       "      <td>0.00</td>\n",
       "      <td>0.00</td>\n",
       "      <td>0.0</td>\n",
       "      <td>919.42</td>\n",
       "      <td>306.10</td>\n",
       "      <td>575.28</td>\n",
       "      <td>...</td>\n",
       "      <td>0.0</td>\n",
       "      <td>1321.3</td>\n",
       "      <td>0.00</td>\n",
       "      <td>506.38</td>\n",
       "      <td>272.00</td>\n",
       "      <td>632.00</td>\n",
       "      <td>0.00</td>\n",
       "      <td>1201.0</td>\n",
       "      <td>498.92</td>\n",
       "      <td>426.60</td>\n",
       "    </tr>\n",
       "    <tr>\n",
       "      <th>A0A087WPE4</th>\n",
       "      <td>83116.0</td>\n",
       "      <td>1328.7</td>\n",
       "      <td>1873.1</td>\n",
       "      <td>0.0</td>\n",
       "      <td>0.00</td>\n",
       "      <td>0.00</td>\n",
       "      <td>0.0</td>\n",
       "      <td>10456.00</td>\n",
       "      <td>957.68</td>\n",
       "      <td>7184.40</td>\n",
       "      <td>...</td>\n",
       "      <td>0.0</td>\n",
       "      <td>12110.0</td>\n",
       "      <td>1566.50</td>\n",
       "      <td>6152.10</td>\n",
       "      <td>6275.10</td>\n",
       "      <td>1414.80</td>\n",
       "      <td>3088.10</td>\n",
       "      <td>30862.0</td>\n",
       "      <td>2055.10</td>\n",
       "      <td>4611.90</td>\n",
       "    </tr>\n",
       "    <tr>\n",
       "      <th>A0A087WPT7</th>\n",
       "      <td>109635.0</td>\n",
       "      <td>5293.8</td>\n",
       "      <td>5449.0</td>\n",
       "      <td>0.0</td>\n",
       "      <td>285.44</td>\n",
       "      <td>0.00</td>\n",
       "      <td>0.0</td>\n",
       "      <td>3802.96</td>\n",
       "      <td>1208.28</td>\n",
       "      <td>3317.15</td>\n",
       "      <td>...</td>\n",
       "      <td>0.0</td>\n",
       "      <td>0.0</td>\n",
       "      <td>0.00</td>\n",
       "      <td>0.00</td>\n",
       "      <td>0.00</td>\n",
       "      <td>0.00</td>\n",
       "      <td>0.00</td>\n",
       "      <td>0.0</td>\n",
       "      <td>0.00</td>\n",
       "      <td>0.00</td>\n",
       "    </tr>\n",
       "  </tbody>\n",
       "</table>\n",
       "<p>5 rows × 192 columns</p>\n",
       "</div>"
      ],
      "text/plain": [
       "                       B1_Reporter intensity corrected 1  \\\n",
       "Leading razor protein                                      \n",
       "A0A023T778                                      375752.0   \n",
       "A0A087WNT1                                      420030.0   \n",
       "A0A087WNV1                                       16133.0   \n",
       "A0A087WPE4                                       83116.0   \n",
       "A0A087WPT7                                      109635.0   \n",
       "\n",
       "                       B1_Reporter intensity corrected 2  \\\n",
       "Leading razor protein                                      \n",
       "A0A023T778                                       20342.9   \n",
       "A0A087WNT1                                       26775.0   \n",
       "A0A087WNV1                                        1047.8   \n",
       "A0A087WPE4                                        1328.7   \n",
       "A0A087WPT7                                        5293.8   \n",
       "\n",
       "                       B1_Reporter intensity corrected 3  \\\n",
       "Leading razor protein                                      \n",
       "A0A023T778                                       17767.2   \n",
       "A0A087WNT1                                       47514.0   \n",
       "A0A087WNV1                                        1121.6   \n",
       "A0A087WPE4                                        1873.1   \n",
       "A0A087WPT7                                        5449.0   \n",
       "\n",
       "                       B1_Reporter intensity corrected 4  \\\n",
       "Leading razor protein                                      \n",
       "A0A023T778                                        1001.3   \n",
       "A0A087WNT1                                        2142.2   \n",
       "A0A087WNV1                                           0.0   \n",
       "A0A087WPE4                                           0.0   \n",
       "A0A087WPT7                                           0.0   \n",
       "\n",
       "                       B1_Reporter intensity corrected 5  \\\n",
       "Leading razor protein                                      \n",
       "A0A023T778                                        225.19   \n",
       "A0A087WNT1                                       1309.00   \n",
       "A0A087WNV1                                          0.00   \n",
       "A0A087WPE4                                          0.00   \n",
       "A0A087WPT7                                        285.44   \n",
       "\n",
       "                       B1_Reporter intensity corrected 6  \\\n",
       "Leading razor protein                                      \n",
       "A0A023T778                                          0.00   \n",
       "A0A087WNT1                                        410.68   \n",
       "A0A087WNV1                                          0.00   \n",
       "A0A087WPE4                                          0.00   \n",
       "A0A087WPT7                                          0.00   \n",
       "\n",
       "                       B1_Reporter intensity corrected 7  \\\n",
       "Leading razor protein                                      \n",
       "A0A023T778                                           0.0   \n",
       "A0A087WNT1                                           0.0   \n",
       "A0A087WNV1                                           0.0   \n",
       "A0A087WPE4                                           0.0   \n",
       "A0A087WPT7                                           0.0   \n",
       "\n",
       "                       B1_Reporter intensity corrected 8  \\\n",
       "Leading razor protein                                      \n",
       "A0A023T778                                       2748.04   \n",
       "A0A087WNT1                                       4375.00   \n",
       "A0A087WNV1                                        919.42   \n",
       "A0A087WPE4                                      10456.00   \n",
       "A0A087WPT7                                       3802.96   \n",
       "\n",
       "                       B1_Reporter intensity corrected 9  \\\n",
       "Leading razor protein                                      \n",
       "A0A023T778                                        814.89   \n",
       "A0A087WNT1                                        970.43   \n",
       "A0A087WNV1                                        306.10   \n",
       "A0A087WPE4                                        957.68   \n",
       "A0A087WPT7                                       1208.28   \n",
       "\n",
       "                       B1_Reporter intensity corrected 10  ...  \\\n",
       "Leading razor protein                                      ...   \n",
       "A0A023T778                                        3939.89  ...   \n",
       "A0A087WNT1                                        4850.60  ...   \n",
       "A0A087WNV1                                         575.28  ...   \n",
       "A0A087WPE4                                        7184.40  ...   \n",
       "A0A087WPT7                                        3317.15  ...   \n",
       "\n",
       "                       C9_Reporter intensity corrected 7  \\\n",
       "Leading razor protein                                      \n",
       "A0A023T778                                           0.0   \n",
       "A0A087WNT1                                           0.0   \n",
       "A0A087WNV1                                           0.0   \n",
       "A0A087WPE4                                           0.0   \n",
       "A0A087WPT7                                           0.0   \n",
       "\n",
       "                       C9_Reporter intensity corrected 8  \\\n",
       "Leading razor protein                                      \n",
       "A0A023T778                                        2461.2   \n",
       "A0A087WNT1                                       11802.0   \n",
       "A0A087WNV1                                        1321.3   \n",
       "A0A087WPE4                                       12110.0   \n",
       "A0A087WPT7                                           0.0   \n",
       "\n",
       "                       C9_Reporter intensity corrected 9  \\\n",
       "Leading razor protein                                      \n",
       "A0A023T778                                        667.52   \n",
       "A0A087WNT1                                       3030.32   \n",
       "A0A087WNV1                                          0.00   \n",
       "A0A087WPE4                                       1566.50   \n",
       "A0A087WPT7                                          0.00   \n",
       "\n",
       "                       C9_Reporter intensity corrected 10  \\\n",
       "Leading razor protein                                       \n",
       "A0A023T778                                        1959.96   \n",
       "A0A087WNT1                                        7448.40   \n",
       "A0A087WNV1                                         506.38   \n",
       "A0A087WPE4                                        6152.10   \n",
       "A0A087WPT7                                           0.00   \n",
       "\n",
       "                       C9_Reporter intensity corrected 11  \\\n",
       "Leading razor protein                                       \n",
       "A0A023T778                                        1242.24   \n",
       "A0A087WNT1                                        7164.20   \n",
       "A0A087WNV1                                         272.00   \n",
       "A0A087WPE4                                        6275.10   \n",
       "A0A087WPT7                                           0.00   \n",
       "\n",
       "                       C9_Reporter intensity corrected 12  \\\n",
       "Leading razor protein                                       \n",
       "A0A023T778                                         781.94   \n",
       "A0A087WNT1                                        4095.99   \n",
       "A0A087WNV1                                         632.00   \n",
       "A0A087WPE4                                        1414.80   \n",
       "A0A087WPT7                                           0.00   \n",
       "\n",
       "                       C9_Reporter intensity corrected 13  \\\n",
       "Leading razor protein                                       \n",
       "A0A023T778                                         818.39   \n",
       "A0A087WNT1                                        3850.06   \n",
       "A0A087WNV1                                           0.00   \n",
       "A0A087WPE4                                        3088.10   \n",
       "A0A087WPT7                                           0.00   \n",
       "\n",
       "                       C9_Reporter intensity corrected 14  \\\n",
       "Leading razor protein                                       \n",
       "A0A023T778                                         5297.3   \n",
       "A0A087WNT1                                        18575.2   \n",
       "A0A087WNV1                                         1201.0   \n",
       "A0A087WPE4                                        30862.0   \n",
       "A0A087WPT7                                            0.0   \n",
       "\n",
       "                       C9_Reporter intensity corrected 15  \\\n",
       "Leading razor protein                                       \n",
       "A0A023T778                                        1623.54   \n",
       "A0A087WNT1                                        3528.75   \n",
       "A0A087WNV1                                         498.92   \n",
       "A0A087WPE4                                        2055.10   \n",
       "A0A087WPT7                                           0.00   \n",
       "\n",
       "                       C9_Reporter intensity corrected 16  \n",
       "Leading razor protein                                      \n",
       "A0A023T778                                        1714.27  \n",
       "A0A087WNT1                                        6927.34  \n",
       "A0A087WNV1                                         426.60  \n",
       "A0A087WPE4                                        4611.90  \n",
       "A0A087WPT7                                           0.00  \n",
       "\n",
       "[5 rows x 192 columns]"
      ]
     },
     "execution_count": 35,
     "metadata": {},
     "output_type": "execute_result"
    }
   ],
   "source": [
    "df_pro.head()"
   ]
  },
  {
   "cell_type": "code",
   "execution_count": 36,
   "metadata": {},
   "outputs": [],
   "source": [
    "data_set.to_csv('../data/DeepSCP_evidence.txt', sep='\\t', index=False)\n",
    "data.to_csv('../data/DeepSCP_evidence_filter.txt', sep='\\t', index=False)\n",
    "df_pro.to_csv('../data/DeepSCP_pro.csv')\n",
    "df_pep.to_csv('../data/DeepSCP_pep.csv')"
   ]
  },
  {
   "cell_type": "code",
   "execution_count": 47,
   "metadata": {},
   "outputs": [],
   "source": [
    "data.to_csv('../data/DeepSCP_evidence_filter.txt', sep='\\t', index=False)"
   ]
  },
  {
   "cell_type": "code",
   "execution_count": null,
   "metadata": {},
   "outputs": [],
   "source": []
  },
  {
   "cell_type": "markdown",
   "metadata": {},
   "source": [
    "# Protein filter"
   ]
  },
  {
   "cell_type": "code",
   "execution_count": 37,
   "metadata": {},
   "outputs": [],
   "source": [
    "from DeepSCP import proteinfilter"
   ]
  },
  {
   "cell_type": "code",
   "execution_count": 38,
   "metadata": {},
   "outputs": [
    {
     "data": {
      "text/plain": [
       "C10     36\n",
       "SVEC    36\n",
       "RAW     36\n",
       "Name: Type, dtype: int64"
      ]
     },
     "execution_count": 38,
     "metadata": {},
     "output_type": "execute_result"
    }
   ],
   "source": [
    "an_cols = pd.DataFrame({'Sample_id':  df_pro.columns,\n",
    "                        'Set': [i.rsplit('_', 1)[0] for i in df_pro.columns],\n",
    "                       'Channel': [i.rsplit('_', 1)[-1] for i in df_pro.columns]})\n",
    "\n",
    "an_cols['Type'] = 'Empty'\n",
    "an_cols.loc[an_cols.Channel =='Reporter intensity corrected 1', 'Type'] = 'Boost'\n",
    "an_cols.loc[an_cols.Channel =='Reporter intensity corrected 2' 'Type'] = 'Reference'\n",
    "\n",
    "an_cols.loc[an_cols.Channel.isin(['Reporter intensity corrected 8',\n",
    "                                  'Reporter intensity corrected 11',\n",
    "                                  'Reporter intensity corrected 14']), 'Type'] = 'C10'\n",
    "an_cols.loc[an_cols.Channel.isin(['Reporter intensity corrected 9',\n",
    "                                  'Reporter intensity corrected 12',\n",
    "                                  'Reporter intensity corrected 15']), 'Type'] = 'RAW'\n",
    "an_cols.loc[an_cols.Channel.isin(['Reporter intensity corrected 10',\n",
    "                                  'Reporter intensity corrected 13',\n",
    "                                  'Reporter intensity corrected 16']), 'Type'] = 'SVEC'\n",
    "an_cols.to_csv('../data/an_cols.csv', index=False)\n",
    "an_cols1 = an_cols[(an_cols.Type.isin(['C10', 'SVEC', 'RAW']))]\n",
    "an_cols1.Type.value_counts()"
   ]
  },
  {
   "cell_type": "code",
   "execution_count": 39,
   "metadata": {},
   "outputs": [
    {
     "data": {
      "text/html": [
       "<div>\n",
       "<style scoped>\n",
       "    .dataframe tbody tr th:only-of-type {\n",
       "        vertical-align: middle;\n",
       "    }\n",
       "\n",
       "    .dataframe tbody tr th {\n",
       "        vertical-align: top;\n",
       "    }\n",
       "\n",
       "    .dataframe thead th {\n",
       "        text-align: right;\n",
       "    }\n",
       "</style>\n",
       "<table border=\"1\" class=\"dataframe\">\n",
       "  <thead>\n",
       "    <tr style=\"text-align: right;\">\n",
       "      <th></th>\n",
       "      <th>Sample_id</th>\n",
       "      <th>Set</th>\n",
       "      <th>Channel</th>\n",
       "      <th>Type</th>\n",
       "    </tr>\n",
       "  </thead>\n",
       "  <tbody>\n",
       "    <tr>\n",
       "      <th>7</th>\n",
       "      <td>B1_Reporter intensity corrected 8</td>\n",
       "      <td>B1</td>\n",
       "      <td>Reporter intensity corrected 8</td>\n",
       "      <td>C10</td>\n",
       "    </tr>\n",
       "    <tr>\n",
       "      <th>8</th>\n",
       "      <td>B1_Reporter intensity corrected 9</td>\n",
       "      <td>B1</td>\n",
       "      <td>Reporter intensity corrected 9</td>\n",
       "      <td>RAW</td>\n",
       "    </tr>\n",
       "    <tr>\n",
       "      <th>9</th>\n",
       "      <td>B1_Reporter intensity corrected 10</td>\n",
       "      <td>B1</td>\n",
       "      <td>Reporter intensity corrected 10</td>\n",
       "      <td>SVEC</td>\n",
       "    </tr>\n",
       "    <tr>\n",
       "      <th>10</th>\n",
       "      <td>B1_Reporter intensity corrected 11</td>\n",
       "      <td>B1</td>\n",
       "      <td>Reporter intensity corrected 11</td>\n",
       "      <td>C10</td>\n",
       "    </tr>\n",
       "    <tr>\n",
       "      <th>11</th>\n",
       "      <td>B1_Reporter intensity corrected 12</td>\n",
       "      <td>B1</td>\n",
       "      <td>Reporter intensity corrected 12</td>\n",
       "      <td>RAW</td>\n",
       "    </tr>\n",
       "  </tbody>\n",
       "</table>\n",
       "</div>"
      ],
      "text/plain": [
       "                             Sample_id Set                          Channel  \\\n",
       "7    B1_Reporter intensity corrected 8  B1   Reporter intensity corrected 8   \n",
       "8    B1_Reporter intensity corrected 9  B1   Reporter intensity corrected 9   \n",
       "9   B1_Reporter intensity corrected 10  B1  Reporter intensity corrected 10   \n",
       "10  B1_Reporter intensity corrected 11  B1  Reporter intensity corrected 11   \n",
       "11  B1_Reporter intensity corrected 12  B1  Reporter intensity corrected 12   \n",
       "\n",
       "    Type  \n",
       "7    C10  \n",
       "8    RAW  \n",
       "9   SVEC  \n",
       "10   C10  \n",
       "11   RAW  "
      ]
     },
     "execution_count": 39,
     "metadata": {},
     "output_type": "execute_result"
    }
   ],
   "source": [
    "an_cols1.head()"
   ]
  },
  {
   "cell_type": "code",
   "execution_count": 40,
   "metadata": {},
   "outputs": [
    {
     "data": {
      "text/plain": [
       "(4605, 108)"
      ]
     },
     "execution_count": 40,
     "metadata": {},
     "output_type": "execute_result"
    }
   ],
   "source": [
    "df_pro1 = df_pro[set(df_pro.columns) & set(an_cols1.Sample_id)]\n",
    "df_pro1.shape"
   ]
  },
  {
   "cell_type": "code",
   "execution_count": 41,
   "metadata": {},
   "outputs": [
    {
     "data": {
      "text/plain": [
       "(18467, 110)"
      ]
     },
     "execution_count": 41,
     "metadata": {},
     "output_type": "execute_result"
    }
   ],
   "source": [
    "df_pep1 = df_pep[[protein_column] + [peptide_column]  + df_pro1.columns.tolist()]\n",
    "df_pep1.shape"
   ]
  },
  {
   "cell_type": "code",
   "execution_count": 42,
   "metadata": {},
   "outputs": [
    {
     "data": {
      "text/plain": [
       "(3448, 108)"
      ]
     },
     "execution_count": 42,
     "metadata": {},
     "output_type": "execute_result"
    }
   ],
   "source": [
    "# filter all proteins number\n",
    "# df_pro_ft= proteinfilter(df_pro1,protein_count=15, sample_ratio=0.5)\n",
    "df_pro_ft= proteinfilter(df_pro1)\n",
    "df_pro_ft.shape"
   ]
  },
  {
   "cell_type": "code",
   "execution_count": 43,
   "metadata": {},
   "outputs": [
    {
     "data": {
      "text/plain": [
       "(17242, 110)"
      ]
     },
     "execution_count": 43,
     "metadata": {},
     "output_type": "execute_result"
    }
   ],
   "source": [
    "# filter all peptide number\n",
    "df_pep_ft = df_pep1[df_pep1[protein_column].isin(df_pro_ft.index)]\n",
    "df_pep_ft.shape"
   ]
  },
  {
   "cell_type": "code",
   "execution_count": 44,
   "metadata": {},
   "outputs": [
    {
     "data": {
      "text/plain": [
       "2239.509259259259"
      ]
     },
     "execution_count": 44,
     "metadata": {},
     "output_type": "execute_result"
    }
   ],
   "source": [
    "# filter mean proteins number\n",
    "(df_pro_ft!=0).sum(0).mean()"
   ]
  },
  {
   "cell_type": "code",
   "execution_count": 45,
   "metadata": {},
   "outputs": [
    {
     "data": {
      "text/plain": [
       "8653.166666666666"
      ]
     },
     "execution_count": 45,
     "metadata": {},
     "output_type": "execute_result"
    }
   ],
   "source": [
    "# filter mean peptides number\n",
    "(df_pep_ft.iloc[:,2:] != 0).sum(0).mean()"
   ]
  },
  {
   "cell_type": "code",
   "execution_count": 46,
   "metadata": {},
   "outputs": [],
   "source": [
    "df_pro_ft.to_csv('../data/DeepSCP_pro_ft.csv')\n",
    "df_pep_ft.to_csv('../data/DeepSCP_pep_ft.csv')"
   ]
  },
  {
   "cell_type": "code",
   "execution_count": null,
   "metadata": {},
   "outputs": [],
   "source": []
  }
 ],
 "metadata": {
  "kernelspec": {
   "display_name": "Python 3",
   "language": "python",
   "name": "python3"
  },
  "language_info": {
   "codemirror_mode": {
    "name": "ipython",
    "version": 3
   },
   "file_extension": ".py",
   "mimetype": "text/x-python",
   "name": "python",
   "nbconvert_exporter": "python",
   "pygments_lexer": "ipython3",
   "version": "3.8.8"
  }
 },
 "nbformat": 4,
 "nbformat_minor": 4
}
